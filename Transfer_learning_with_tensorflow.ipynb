{
  "nbformat": 4,
  "nbformat_minor": 0,
  "metadata": {
    "colab": {
      "name": "Transfer learning with tensorflow.ipynb",
      "provenance": [],
      "authorship_tag": "ABX9TyNws/2JADQq2IFP/gcz0dEo",
      "include_colab_link": true
    },
    "kernelspec": {
      "name": "python3",
      "display_name": "Python 3"
    },
    "language_info": {
      "name": "python"
    },
    "accelerator": "GPU"
  },
  "cells": [
    {
      "cell_type": "markdown",
      "metadata": {
        "id": "view-in-github",
        "colab_type": "text"
      },
      "source": [
        "<a href=\"https://colab.research.google.com/github/deepakp23/Tensorflow/blob/main/Transfer_learning_with_tensorflow.ipynb\" target=\"_parent\"><img src=\"https://colab.research.google.com/assets/colab-badge.svg\" alt=\"Open In Colab\"/></a>"
      ]
    },
    {
      "cell_type": "code",
      "metadata": {
        "colab": {
          "base_uri": "https://localhost:8080/"
        },
        "id": "VbpYospC-uyE",
        "outputId": "d1a7bbc4-5b0b-4bb9-8390-7cfd3797068e"
      },
      "source": [
        "!nvidia-smi"
      ],
      "execution_count": 20,
      "outputs": [
        {
          "output_type": "stream",
          "text": [
            "Wed Aug 18 11:08:37 2021       \n",
            "+-----------------------------------------------------------------------------+\n",
            "| NVIDIA-SMI 470.57.02    Driver Version: 460.32.03    CUDA Version: 11.2     |\n",
            "|-------------------------------+----------------------+----------------------+\n",
            "| GPU  Name        Persistence-M| Bus-Id        Disp.A | Volatile Uncorr. ECC |\n",
            "| Fan  Temp  Perf  Pwr:Usage/Cap|         Memory-Usage | GPU-Util  Compute M. |\n",
            "|                               |                      |               MIG M. |\n",
            "|===============================+======================+======================|\n",
            "|   0  Tesla T4            Off  | 00000000:00:04.0 Off |                    0 |\n",
            "| N/A   71C    P0    30W /  70W |   8886MiB / 15109MiB |      0%      Default |\n",
            "|                               |                      |                  N/A |\n",
            "+-------------------------------+----------------------+----------------------+\n",
            "                                                                               \n",
            "+-----------------------------------------------------------------------------+\n",
            "| Processes:                                                                  |\n",
            "|  GPU   GI   CI        PID   Type   Process name                  GPU Memory |\n",
            "|        ID   ID                                                   Usage      |\n",
            "|=============================================================================|\n",
            "|  No running processes found                                                 |\n",
            "+-----------------------------------------------------------------------------+\n"
          ],
          "name": "stdout"
        }
      ]
    },
    {
      "cell_type": "code",
      "metadata": {
        "colab": {
          "base_uri": "https://localhost:8080/"
        },
        "id": "mtRdVOuj-7hm",
        "outputId": "8401dc9d-3b32-4af1-f30a-afda93f23a79"
      },
      "source": [
        "import zipfile\n",
        "\n",
        "!wget https://storage.googleapis.com/ztm_tf_course/food_vision/10_food_classes_10_percent.zip\n",
        "\n",
        "zip_ref = zipfile.ZipFile(\"10_food_classes_10_percent.zip\")\n",
        "zip_ref.extractall()\n",
        "zip_ref.close()"
      ],
      "execution_count": 21,
      "outputs": [
        {
          "output_type": "stream",
          "text": [
            "--2021-08-18 11:08:38--  https://storage.googleapis.com/ztm_tf_course/food_vision/10_food_classes_10_percent.zip\n",
            "Resolving storage.googleapis.com (storage.googleapis.com)... 142.251.2.128, 142.250.141.128, 2607:f8b0:4023:c0b::80, ...\n",
            "Connecting to storage.googleapis.com (storage.googleapis.com)|142.251.2.128|:443... connected.\n",
            "HTTP request sent, awaiting response... 200 OK\n",
            "Length: 168546183 (161M) [application/zip]\n",
            "Saving to: ‘10_food_classes_10_percent.zip.1’\n",
            "\n",
            "10_food_classes_10_ 100%[===================>] 160.74M  87.7MB/s    in 1.8s    \n",
            "\n",
            "2021-08-18 11:08:40 (87.7 MB/s) - ‘10_food_classes_10_percent.zip.1’ saved [168546183/168546183]\n",
            "\n"
          ],
          "name": "stdout"
        }
      ]
    },
    {
      "cell_type": "code",
      "metadata": {
        "colab": {
          "base_uri": "https://localhost:8080/"
        },
        "id": "ev8ztrRs_ZI_",
        "outputId": "428eae8b-fa5d-4c49-f56f-6c433ed3b5bf"
      },
      "source": [
        "import os\n",
        "\n",
        "for dirpath, dirfile, filename in os.walk(\"10_food_classes_10_percent\"):\n",
        "  print(dirpath, len(dirfile), len(filename))"
      ],
      "execution_count": 22,
      "outputs": [
        {
          "output_type": "stream",
          "text": [
            "10_food_classes_10_percent 2 0\n",
            "10_food_classes_10_percent/train 10 0\n",
            "10_food_classes_10_percent/train/hamburger 0 75\n",
            "10_food_classes_10_percent/train/chicken_curry 0 75\n",
            "10_food_classes_10_percent/train/fried_rice 0 75\n",
            "10_food_classes_10_percent/train/ice_cream 0 75\n",
            "10_food_classes_10_percent/train/ramen 0 75\n",
            "10_food_classes_10_percent/train/steak 0 75\n",
            "10_food_classes_10_percent/train/sushi 0 75\n",
            "10_food_classes_10_percent/train/chicken_wings 0 75\n",
            "10_food_classes_10_percent/train/pizza 0 75\n",
            "10_food_classes_10_percent/train/grilled_salmon 0 75\n",
            "10_food_classes_10_percent/test 10 0\n",
            "10_food_classes_10_percent/test/hamburger 0 250\n",
            "10_food_classes_10_percent/test/chicken_curry 0 250\n",
            "10_food_classes_10_percent/test/fried_rice 0 250\n",
            "10_food_classes_10_percent/test/ice_cream 0 250\n",
            "10_food_classes_10_percent/test/ramen 0 250\n",
            "10_food_classes_10_percent/test/steak 0 250\n",
            "10_food_classes_10_percent/test/sushi 0 250\n",
            "10_food_classes_10_percent/test/chicken_wings 0 250\n",
            "10_food_classes_10_percent/test/pizza 0 250\n",
            "10_food_classes_10_percent/test/grilled_salmon 0 250\n"
          ],
          "name": "stdout"
        }
      ]
    },
    {
      "cell_type": "code",
      "metadata": {
        "id": "R_fCHRdd_rwE"
      },
      "source": [
        "from tensorflow.keras.preprocessing.image import ImageDataGenerator"
      ],
      "execution_count": 23,
      "outputs": []
    },
    {
      "cell_type": "code",
      "metadata": {
        "colab": {
          "base_uri": "https://localhost:8080/"
        },
        "id": "R2koIrrH_2dm",
        "outputId": "db694f76-3950-4bfa-9abf-5228cc999d5e"
      },
      "source": [
        "IMAGE_SHAPE = (224, 224)\n",
        "BATCH_SIZE = 32\n",
        "EPOCHS = 5\n",
        "\n",
        "train_dir = '10_food_classes_10_percent/train/'\n",
        "test_dir = '10_food_classes_10_percent/test/'\n",
        "\n",
        "train_datagen = ImageDataGenerator(rescale = 1./255)\n",
        "test_datagen = ImageDataGenerator(rescale=1./255)\n",
        "\n",
        "train_data = train_datagen.flow_from_directory(train_dir,\n",
        "                                               target_size = IMAGE_SHAPE,\n",
        "                                               batch_size = BATCH_SIZE,\n",
        "                                               class_mode='categorical')\n",
        "\n",
        "test_data = test_datagen.flow_from_directory(test_dir,\n",
        "                                            target_size = IMAGE_SHAPE,\n",
        "                                            batch_size = BATCH_SIZE,\n",
        "                                            class_mode='categorical')"
      ],
      "execution_count": 24,
      "outputs": [
        {
          "output_type": "stream",
          "text": [
            "Found 750 images belonging to 10 classes.\n",
            "Found 2500 images belonging to 10 classes.\n"
          ],
          "name": "stdout"
        }
      ]
    },
    {
      "cell_type": "code",
      "metadata": {
        "id": "D-7tZn7CANry"
      },
      "source": [
        "## Callbacks\n",
        "## Track our experiment using tensorboard callback\n",
        "import datetime\n",
        " \n",
        "def create_tensorboard_callback(dir_name, exp_name):\n",
        "  log_dir = dir_name + '/' + exp_name + '/' + datetime.datetime.now().strftime('%Y%m%d-%H%M%S')\n",
        "  tensorboard_callback = tf.keras.callbacks.TensorBoard(log_dir=log_dir)\n",
        "  print('Saving the Tesorboard log file to {}'.format(log_dir))\n",
        "  return tensorboard_callback"
      ],
      "execution_count": 25,
      "outputs": []
    },
    {
      "cell_type": "code",
      "metadata": {
        "id": "uFhBZA96bW9s"
      },
      "source": [
        "## Creating models using Tensorflow Hub\n",
        "\n",
        "resnet_url = 'https://tfhub.dev/google/imagenet/resnet_v2_50/feature_vector/5'\n",
        "efficientnet_url = 'https://tfhub.dev/tensorflow/efficientnet/b0/feature-vector/1'"
      ],
      "execution_count": 26,
      "outputs": []
    },
    {
      "cell_type": "code",
      "metadata": {
        "id": "0gW1uPMTeNki"
      },
      "source": [
        "import tensorflow as tf\n",
        "import tensorflow_hub as hub\n",
        "from tensorflow.keras import layers"
      ],
      "execution_count": 27,
      "outputs": []
    },
    {
      "cell_type": "code",
      "metadata": {
        "id": "IP3ImMm9ealH"
      },
      "source": [
        "def create_model(model_url, num_classes):\n",
        "\n",
        "  feature_extractor_layer = hub.KerasLayer(model_url,\n",
        "                                           trainable = False,\n",
        "                                           name='feature_extraction_layer',\n",
        "                                           input_shape = IMAGE_SHAPE + (3, )) ## freeze the already learned pattern\n",
        "\n",
        "\n",
        "  model = tf.keras.models.Sequential([\n",
        "                  feature_extractor_layer,\n",
        "                  layers.Dense(num_classes, activation=\"softmax\", name=\"output_layer\")\n",
        "  ])\n",
        "\n",
        "  return model"
      ],
      "execution_count": 28,
      "outputs": []
    },
    {
      "cell_type": "markdown",
      "metadata": {
        "id": "NZ-NolKifaZh"
      },
      "source": [
        "## Creating Resnet model "
      ]
    },
    {
      "cell_type": "code",
      "metadata": {
        "id": "76sPB21JfNgN"
      },
      "source": [
        "resnet_model = create_model(resnet_url,\n",
        "                            num_classes = train_data.num_classes)"
      ],
      "execution_count": 29,
      "outputs": []
    },
    {
      "cell_type": "code",
      "metadata": {
        "colab": {
          "base_uri": "https://localhost:8080/"
        },
        "id": "5h-MKEG0fw7N",
        "outputId": "0b8fc523-8ddf-4b08-c473-8dd20f575c10"
      },
      "source": [
        "resnet_model.summary()"
      ],
      "execution_count": 30,
      "outputs": [
        {
          "output_type": "stream",
          "text": [
            "Model: \"sequential_2\"\n",
            "_________________________________________________________________\n",
            "Layer (type)                 Output Shape              Param #   \n",
            "=================================================================\n",
            "feature_extraction_layer (Ke (None, 2048)              23564800  \n",
            "_________________________________________________________________\n",
            "output_layer (Dense)         (None, 10)                20490     \n",
            "=================================================================\n",
            "Total params: 23,585,290\n",
            "Trainable params: 20,490\n",
            "Non-trainable params: 23,564,800\n",
            "_________________________________________________________________\n"
          ],
          "name": "stdout"
        }
      ]
    },
    {
      "cell_type": "code",
      "metadata": {
        "id": "Q6NDQB6If_NL"
      },
      "source": [
        "resnet_model.compile(loss='categorical_crossentropy', optimizer=tf.keras.optimizers.Adam(),\n",
        "                     metrics = ['accuracy'])"
      ],
      "execution_count": 31,
      "outputs": []
    },
    {
      "cell_type": "code",
      "metadata": {
        "colab": {
          "base_uri": "https://localhost:8080/"
        },
        "id": "MknnRbuVgSvJ",
        "outputId": "49354419-e1dd-437c-dc50-085171585c8a"
      },
      "source": [
        "history_resnet = resnet_model.fit(train_data,\n",
        "                 epochs = 5,\n",
        "                 steps_per_epoch=len(train_data),\n",
        "                 validation_data = test_data,\n",
        "                 validation_steps = len(test_data),\n",
        "                 callbacks = [create_tensorboard_callback(\"tensorflow_hub\",\"resnet50v2\")])"
      ],
      "execution_count": 32,
      "outputs": [
        {
          "output_type": "stream",
          "text": [
            "Saving the Tesorboard log file to tensorflow_hub/resnet50v2/20210818-110843\n",
            "Epoch 1/5\n",
            "24/24 [==============================] - 21s 761ms/step - loss: 1.8995 - accuracy: 0.3533 - val_loss: 1.2088 - val_accuracy: 0.6200\n",
            "Epoch 2/5\n",
            "24/24 [==============================] - 15s 664ms/step - loss: 0.9005 - accuracy: 0.7333 - val_loss: 0.8883 - val_accuracy: 0.7156\n",
            "Epoch 3/5\n",
            "24/24 [==============================] - 16s 669ms/step - loss: 0.6191 - accuracy: 0.8280 - val_loss: 0.7713 - val_accuracy: 0.7520\n",
            "Epoch 4/5\n",
            "24/24 [==============================] - 15s 662ms/step - loss: 0.4694 - accuracy: 0.8827 - val_loss: 0.7167 - val_accuracy: 0.7664\n",
            "Epoch 5/5\n",
            "24/24 [==============================] - 15s 659ms/step - loss: 0.3775 - accuracy: 0.9067 - val_loss: 0.7018 - val_accuracy: 0.7656\n"
          ],
          "name": "stdout"
        }
      ]
    },
    {
      "cell_type": "code",
      "metadata": {
        "id": "oC1gN4Jtg4gw"
      },
      "source": [
        "import matplotlib.pyplot as plt\n",
        "\n",
        "def plot_loss_curves(history):\n",
        "  loss = history.history['loss']\n",
        "  val_loss = history.history['val_loss']\n",
        "\n",
        "  accuracy = history.history['accuracy']\n",
        "  val_accuracy = history.history['val_accuracy']\n",
        "\n",
        "  epochs = range(len(history.history['loss']))\n",
        "\n",
        "  plt.plot(epochs, loss, label = 'training loss')\n",
        "  plt.plot(epochs, val_loss, label = 'validation loss')\n",
        "  plt.title(\"Loss\")\n",
        "  plt.xlabel(\"epochs\")\n",
        "  plt.legend()\n",
        "\n",
        "  plt.figure()\n",
        "  plt.plot(epochs, accuracy, label = 'Accuracy')\n",
        "  plt.plot(epochs, val_accuracy, label = 'validation accuracy')\n",
        "  plt.title(\"Accuracy\")\n",
        "  plt.xlabel(\"epochs\")\n",
        "  plt.legend()  "
      ],
      "execution_count": 33,
      "outputs": []
    },
    {
      "cell_type": "code",
      "metadata": {
        "colab": {
          "base_uri": "https://localhost:8080/",
          "height": 573
        },
        "id": "9XrzMWaOjjHc",
        "outputId": "96be2782-435f-4b5e-fd60-cb83f6a1acf9"
      },
      "source": [
        "plot_loss_curves(history_resnet)"
      ],
      "execution_count": 34,
      "outputs": [
        {
          "output_type": "display_data",
          "data": {
            "image/png": "[encoded data removed]",
            "text/plain": [
              "<Figure size 432x288 with 1 Axes>"
            ]
          },
          "metadata": {
            "tags": [],
            "needs_background": "light"
          }
        },
        {
          "output_type": "display_data",
          "data": {
            "image/png": "[encoded data removed]",
            "text/plain": [
              "<Figure size 432x288 with 1 Axes>"
            ]
          },
          "metadata": {
            "tags": [],
            "needs_background": "light"
          }
        }
      ]
    },
    {
      "cell_type": "code",
      "metadata": {
        "id": "fpP4yTCIjl8p"
      },
      "source": [
        "efficienet_model = create_model(efficientnet_url,\n",
        "                            num_classes = train_data.num_classes)"
      ],
      "execution_count": 35,
      "outputs": []
    },
    {
      "cell_type": "code",
      "metadata": {
        "id": "vrx-rklfkCYv"
      },
      "source": [
        "efficienet_model.compile(loss='categorical_crossentropy', optimizer=tf.keras.optimizers.Adam(),\n",
        "                     metrics = ['accuracy'])"
      ],
      "execution_count": 36,
      "outputs": []
    },
    {
      "cell_type": "code",
      "metadata": {
        "colab": {
          "base_uri": "https://localhost:8080/"
        },
        "id": "x30gFW9RkG5B",
        "outputId": "1a028c32-2803-49b1-ffa2-64afa1b22175"
      },
      "source": [
        "history_efficienet = efficienet_model.fit(train_data,\n",
        "                 epochs = 5,\n",
        "                 steps_per_epoch=len(train_data),\n",
        "                 validation_data = test_data,\n",
        "                 validation_steps = len(test_data),\n",
        "                 callbacks = [create_tensorboard_callback(\"tensorflow_hub\",\"efficientnetb0\")])"
      ],
      "execution_count": 37,
      "outputs": [
        {
          "output_type": "stream",
          "text": [
            "Saving the Tesorboard log file to tensorflow_hub/efficientnetb0/20210818-111017\n",
            "Epoch 1/5\n",
            "24/24 [==============================] - 24s 774ms/step - loss: 1.8529 - accuracy: 0.4387 - val_loss: 1.3181 - val_accuracy: 0.7156\n",
            "Epoch 2/5\n",
            "24/24 [==============================] - 15s 629ms/step - loss: 1.0611 - accuracy: 0.7813 - val_loss: 0.8788 - val_accuracy: 0.8068\n",
            "Epoch 3/5\n",
            "24/24 [==============================] - 15s 624ms/step - loss: 0.7514 - accuracy: 0.8387 - val_loss: 0.7034 - val_accuracy: 0.8364\n",
            "Epoch 4/5\n",
            "24/24 [==============================] - 14s 621ms/step - loss: 0.6032 - accuracy: 0.8653 - val_loss: 0.6134 - val_accuracy: 0.8528\n",
            "Epoch 5/5\n",
            "24/24 [==============================] - 15s 623ms/step - loss: 0.5110 - accuracy: 0.8880 - val_loss: 0.5574 - val_accuracy: 0.8620\n"
          ],
          "name": "stdout"
        }
      ]
    },
    {
      "cell_type": "code",
      "metadata": {
        "colab": {
          "base_uri": "https://localhost:8080/",
          "height": 573
        },
        "id": "444DUdlhkLKA",
        "outputId": "3d2a7e21-9e07-419b-af28-109d028d1d50"
      },
      "source": [
        "plot_loss_curves(history_efficienet)"
      ],
      "execution_count": 38,
      "outputs": [
        {
          "output_type": "display_data",
          "data": {
            "image/png": "[encoded data removed]",
            "text/plain": [
              "<Figure size 432x288 with 1 Axes>"
            ]
          },
          "metadata": {
            "tags": [],
            "needs_background": "light"
          }
        },
        {
          "output_type": "display_data",
          "data": {
            "image/png": "[encoded data removed]",
            "text/plain": [
              "<Figure size 432x288 with 1 Axes>"
            ]
          },
          "metadata": {
            "tags": [],
            "needs_background": "light"
          }
        }
      ]
    },
    {
      "cell_type": "markdown",
      "metadata": {
        "id": "HvEa9LNQ8ZMa"
      },
      "source": [
        "## Comparing Model on Tensorboard"
      ]
    },
    {
      "cell_type": "code",
      "metadata": {
        "id": "hzVCoCAxlJZa",
        "colab": {
          "base_uri": "https://localhost:8080/"
        },
        "outputId": "4bd30ecd-43f7-4de6-a38b-b1b249853094"
      },
      "source": [
        "!tensorboard dev upload --logdir ./tensorflow_hub/ \\\n",
        "  --name \"Efficient net b0 vs Rest net 50 v2\" \\\n",
        "  --description \"Comparing two pretrained model architecture.\" \\\n",
        "  --one_shot "
      ],
      "execution_count": 41,
      "outputs": [
        {
          "output_type": "stream",
          "text": [
            "2021-08-18 11:17:15.234361: I tensorflow/stream_executor/cuda/cuda_gpu_executor.cc:937] successful NUMA node read from SysFS had negative value (-1), but there must be at least one NUMA node, so returning NUMA node zero\n",
            "2021-08-18 11:17:15.254410: I tensorflow/stream_executor/cuda/cuda_gpu_executor.cc:937] successful NUMA node read from SysFS had negative value (-1), but there must be at least one NUMA node, so returning NUMA node zero\n",
            "2021-08-18 11:17:15.254865: I tensorflow/stream_executor/cuda/cuda_gpu_executor.cc:937] successful NUMA node read from SysFS had negative value (-1), but there must be at least one NUMA node, so returning NUMA node zero\n",
            "\n",
            "***** TensorBoard Uploader *****\n",
            "\n",
            "This will upload your TensorBoard logs to https://tensorboard.dev/ from\n",
            "the following directory:\n",
            "\n",
            "./tensorflow_hub/\n",
            "\n",
            "This TensorBoard will be visible to everyone. Do not upload sensitive\n",
            "data.\n",
            "\n",
            "Your use of this service is subject to Google's Terms of Service\n",
            "<https://policies.google.com/terms> and Privacy Policy\n",
            "<https://policies.google.com/privacy>, and TensorBoard.dev's Terms of Service\n",
            "<https://tensorboard.dev/policy/terms/>.\n",
            "\n",
            "This notice will not be shown again while you are logged into the uploader.\n",
            "To log out, run `tensorboard dev auth revoke`.\n",
            "\n",
            "Continue? (yes/NO) yes\n",
            "\n",
            "Please visit this URL to authorize this application: https://accounts.google.com/o/oauth2/auth?response_type=code&client_id=373649185512-8v619h5kft38l4456nm2dj4ubeqsrvh6.apps.googleusercontent.com&redirect_uri=urn%3Aietf%3Awg%3Aoauth%3A2.0%3Aoob&scope=openid+https%3A%2F%2Fwww.googleapis.com%2Fauth%2Fuserinfo.email&state=4IIBDNIvUQc2GueM0dn5AmS7IBHpqE&prompt=consent&access_type=offline\n",
            "Enter the authorization code: 4/1AX4XfWj_nafVKbNDxFj8aDm9XuR2vIVbcey-Gt_ckGhc0qbCbZqn8xEuFoM\n",
            "\n",
            "\n",
            "New experiment created. View your TensorBoard at: https://tensorboard.dev/experiment/y3mBQEJQQqCP2AAw6fkmcQ/\n",
            "\n",
            "\u001b[1m[2021-08-18T11:17:35]\u001b[0m Started scanning logdir.\n",
            "\u001b[1m[2021-08-18T11:17:40]\u001b[0m Total uploaded: 120 scalars, 0 tensors, 4 binary objects (11.4 MB)\n",
            "\u001b[1m[2021-08-18T11:17:40]\u001b[0m Done scanning logdir.\n",
            "\n",
            "\n",
            "Done. View your TensorBoard at https://tensorboard.dev/experiment/y3mBQEJQQqCP2AAw6fkmcQ/\n"
          ],
          "name": "stdout"
        }
      ]
    },
    {
      "cell_type": "code",
      "metadata": {
        "id": "xOpi2l9c-jJO"
      },
      "source": [
        "yes"
      ],
      "execution_count": null,
      "outputs": []
    }
  ]
}